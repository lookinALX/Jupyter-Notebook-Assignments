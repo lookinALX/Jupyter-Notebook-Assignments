{
 "cells": [
  {
   "cell_type": "markdown",
   "id": "4f2d2724",
   "metadata": {},
   "source": [
    "# 1\n",
    "Find a list of all of the names in the following string using regex."
   ]
  },
  {
   "cell_type": "code",
   "execution_count": 1,
   "id": "05081e24",
   "metadata": {},
   "outputs": [
    {
     "name": "stdout",
     "output_type": "stream",
     "text": [
      "['Amy', 'Mary', 'Ruth', 'Peter']\n"
     ]
    }
   ],
   "source": [
    "import re\n",
    "def names():\n",
    "    simple_string = \"\"\"Amy is 5 years old, and her sister Mary is 2 years old. \n",
    "    Ruth and Peter, their parents, have 3 kids.\"\"\"\n",
    "\n",
    "    list = re.findall(\"[A-Z][a-z]{1,100}\", simple_string)\n",
    "    return list\n",
    "    raise NotImplementedError()\n",
    "print(names())"
   ]
  },
  {
   "cell_type": "code",
   "execution_count": 2,
   "id": "5375aaeb",
   "metadata": {},
   "outputs": [],
   "source": [
    "assert len(names()) == 4, \"There are four names in the simple_string\""
   ]
  },
  {
   "cell_type": "markdown",
   "id": "321f587a",
   "metadata": {},
   "source": [
    "# 2\n",
    "The dataset file in txtfiles/grades.txt contains a line separated list of people with their grade in a class. Create a regex to generate a list of just those students who received a B in the course."
   ]
  },
  {
   "cell_type": "code",
   "execution_count": 6,
   "id": "f3ac9470",
   "metadata": {},
   "outputs": [
    {
     "name": "stdout",
     "output_type": "stream",
     "text": [
      "['Bell Kassulke', 'Simon Loidl', 'Elias Jovanovic', 'Hakim Botros', 'Emilie Lorentsen', 'Jake Wood', 'Fatemeh Akhtar', 'Kim Weston', 'Yasmin Dar', 'Viswamitra Upandhye', 'Killian Kaufman', 'Elwood Page', 'Elodie Booker', 'Adnan Chen', 'Hank Spinka', 'Hannah Bayer']\n"
     ]
    }
   ],
   "source": [
    "import re\n",
    "def grades():\n",
    "    with open (\"txtfiles/grades.txt\", \"r\") as file:\n",
    "        grades = file.read()\n",
    "\n",
    "    return re.findall('([A-Z][a-z]+ [A-Z][a-z]+): B',grades)\n",
    "    raise NotImplementedError()\n",
    "print(grades())"
   ]
  },
  {
   "cell_type": "code",
   "execution_count": 7,
   "id": "e597da0b",
   "metadata": {},
   "outputs": [],
   "source": [
    "assert len(grades()) == 16"
   ]
  },
  {
   "cell_type": "markdown",
   "id": "6144ec6d",
   "metadata": {},
   "source": [
    "# 3\n",
    "Consider the standard web log file in txtfiles/logdata.txt. This file records the access a user makes when visiting a web page (like this one!). Each line of the log has the following items:\n",
    "\n",
    "a host (e.g., '146.204.224.152')\n",
    "a user_name (e.g., 'feest6811' note: sometimes the user name is missing! In this case, use '-' as the value for the username.)\n",
    "the time a request was made (e.g., '21/Jun/2019:15:45:24 -0700')\n",
    "the post request type (e.g., 'POST /incentivize HTTP/1.1' note: not everything is a POST!)\n",
    "Your task is to convert this into a list of dictionaries, where each dictionary looks like the following:\n",
    "\n",
    "example_dict = {\"host\":\"146.204.224.152\", \n",
    "                \"user_name\":\"feest6811\", \n",
    "                \"time\":\"21/Jun/2019:15:45:24 -0700\",\n",
    "                \"request\":\"POST /incentivize HTTP/1.1\"}"
   ]
  },
  {
   "cell_type": "code",
   "execution_count": 12,
   "id": "9cd9e099",
   "metadata": {},
   "outputs": [],
   "source": [
    "import re\n",
    "def logs():\n",
    "    with open(\"txtfiles/logdata.txt\", \"r\") as file:\n",
    "        logdata = file.read()\n",
    "    dictionaries = []\n",
    "    hosts = re.findall('((?:\\d+\\.){3}\\d+)\\s+(?:\\S+)\\s+', logdata)\n",
    "    usernames = re.findall('- (\\S{1,1000}) ',logdata)\n",
    "    requests = re.findall('\\[(\\d{2}/[\\w]{1,100}/\\d{4}:\\d{2}:\\d{2}:\\d{2} -\\d{4})]',logdata)\n",
    "    types = re.findall('\\\"([\\D]{1,1000}[\\w]+.+[\\w])\\\"',logdata)\n",
    "    \n",
    "    for i in range(len(hosts)):\n",
    "        dictionaries.append({\"host\":hosts[i],\n",
    "                             \"user_name\":usernames[i], \n",
    "                             \"time\":requests[i],\n",
    "                             \"request\":types[i]\n",
    "                            })\n",
    "    return dictionaries \n",
    "    raise NotImplementedError()"
   ]
  },
  {
   "cell_type": "code",
   "execution_count": 13,
   "id": "d11128dd",
   "metadata": {},
   "outputs": [],
   "source": [
    "assert len(logs()) == 979\n",
    "\n",
    "one_item={'host': '146.204.224.152',\n",
    "  'user_name': 'feest6811',\n",
    "  'time': '21/Jun/2019:15:45:24 -0700',\n",
    "  'request': 'POST /incentivize HTTP/1.1'}\n",
    "assert one_item in logs(), \"Sorry, this item should be in the log results, check your formating\""
   ]
  },
  {
   "cell_type": "code",
   "execution_count": null,
   "id": "61d5fb98",
   "metadata": {},
   "outputs": [],
   "source": []
  }
 ],
 "metadata": {
  "kernelspec": {
   "display_name": "Python 3 (ipykernel)",
   "language": "python",
   "name": "python3"
  },
  "language_info": {
   "codemirror_mode": {
    "name": "ipython",
    "version": 3
   },
   "file_extension": ".py",
   "mimetype": "text/x-python",
   "name": "python",
   "nbconvert_exporter": "python",
   "pygments_lexer": "ipython3",
   "version": "3.10.0"
  }
 },
 "nbformat": 4,
 "nbformat_minor": 5
}
